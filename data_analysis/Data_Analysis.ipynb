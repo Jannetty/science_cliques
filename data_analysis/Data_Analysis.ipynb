{
 "cells": [
  {
   "cell_type": "code",
   "execution_count": null,
   "metadata": {},
   "outputs": [],
   "source": [
    "import pandas as pd\n",
    "import numpy as np\n",
    "import matplotlib.pyplot as plt"
   ]
  },
  {
   "cell_type": "code",
   "execution_count": null,
   "metadata": {},
   "outputs": [],
   "source": [
    "path_to_data = \"../data/output.csv\"\n",
    "full_dataset = pd.read_csv(path_to_data)\n",
    "full_data_df = full_dataset.replace(to_replace=0.6000000000000001, value=.6)\n",
    "full_data_df"
   ]
  },
  {
   "cell_type": "markdown",
   "metadata": {},
   "source": [
    "## First lets take just the data the original paper did (with constraint that I only have 8 neighbors)"
   ]
  },
  {
   "cell_type": "code",
   "execution_count": null,
   "metadata": {},
   "outputs": [],
   "source": [
    "dataset_100_individuals = full_data_df[full_data_df['num_individuals'] == 100]\n",
    "dataset_100_individuals_1500_facts = dataset_100_individuals[dataset_100_individuals['num_facts'] == 1500]\n",
    "dataset_100_individuals_1500_facts_6_invprob = dataset_100_individuals_1500_facts[dataset_100_individuals_1500_facts['investigation_probability']==.6]\n",
    "original_paper_param_data = dataset_100_individuals_1500_facts_6_invprob\n",
    "original_paper_param_data"
   ]
  },
  {
   "cell_type": "code",
   "execution_count": null,
   "metadata": {},
   "outputs": [],
   "source": [
    "orig_paper_params_avgs = original_paper_param_data.groupby(['philosophy']).mean()\n",
    "orig_paper_params_avgs"
   ]
  },
  {
   "cell_type": "code",
   "execution_count": null,
   "metadata": {},
   "outputs": [],
   "source": [
    "list(orig_paper_params_avgs.index.unique())"
   ]
  },
  {
   "cell_type": "code",
   "execution_count": null,
   "metadata": {},
   "outputs": [],
   "source": [
    "x = list(orig_paper_params_avgs.index.unique())\n",
    "y_truth_mean = list(orig_paper_params_avgs['truth_mean'])\n",
    "y_truth_mean"
   ]
  },
  {
   "cell_type": "code",
   "execution_count": null,
   "metadata": {},
   "outputs": [],
   "source": [
    "fig = plt.figure(figsize = (10, 5))\n",
    "# creating the bar plot\n",
    "plt.bar(x, y_truth_mean)\n",
    "plt.xlabel(\"Philosophy\")\n",
    "plt.ylabel(\"Percent beliefts true\")\n",
    "plt.title(\"Truth Mean\")\n",
    "plt.show()"
   ]
  },
  {
   "cell_type": "code",
   "execution_count": null,
   "metadata": {},
   "outputs": [],
   "source": [
    "x = list(orig_paper_params_avgs.index.unique())\n",
    "y_truth_total = list(orig_paper_params_avgs['truth_total'])\n",
    "fig = plt.figure(figsize = (10, 5))\n",
    "# creating the bar plot\n",
    "plt.bar(x, y_truth_total)\n",
    "plt.xlabel(\"Philosophy\")\n",
    "plt.ylabel(\"Number beliefts true\")\n",
    "plt.title(\"Truth Total\")\n",
    "plt.show()"
   ]
  },
  {
   "cell_type": "code",
   "execution_count": null,
   "metadata": {},
   "outputs": [],
   "source": [
    "x = list(orig_paper_params_avgs.index.unique())\n",
    "y_false_mean = list(orig_paper_params_avgs['false_mean'])\n",
    "fig = plt.figure(figsize = (10, 5))\n",
    "# creating the bar plot\n",
    "plt.bar(x, y_false_mean)\n",
    "plt.xlabel(\"Philosophy\")\n",
    "plt.ylabel(\"Percent beliefts false\")\n",
    "plt.title(\"False Mean\")\n",
    "plt.show()"
   ]
  },
  {
   "cell_type": "code",
   "execution_count": null,
   "metadata": {},
   "outputs": [],
   "source": [
    "x = list(orig_paper_params_avgs.index.unique())\n",
    "y_false_total = list(orig_paper_params_avgs['false_total'])\n",
    "fig = plt.figure(figsize = (10, 5))\n",
    "# creating the bar plot\n",
    "plt.bar(x, y_false_total)\n",
    "plt.xlabel(\"Philosophy\")\n",
    "plt.ylabel(\"Number beliefts false\")\n",
    "plt.title(\"False Total\")\n",
    "plt.show()"
   ]
  },
  {
   "cell_type": "code",
   "execution_count": null,
   "metadata": {},
   "outputs": [],
   "source": [
    "original_paper_param_data"
   ]
  },
  {
   "cell_type": "code",
   "execution_count": null,
   "metadata": {},
   "outputs": [],
   "source": [
    "original_paper_param_data_that_changes = original_paper_param_data[['philosophy','truth_mean', 'truth_total', 'false_mean', 'false_total']].copy()"
   ]
  },
  {
   "cell_type": "code",
   "execution_count": null,
   "metadata": {},
   "outputs": [],
   "source": [
    "original_paper_param_data_that_changes"
   ]
  },
  {
   "cell_type": "code",
   "execution_count": null,
   "metadata": {},
   "outputs": [],
   "source": [
    "orig_paper_params_skeptical_data = original_paper_param_data_that_changes[original_paper_param_data_that_changes['philosophy']=='skeptical']\n",
    "orig_paper_params_reid_data = original_paper_param_data_that_changes[original_paper_param_data_that_changes['philosophy']=='reid']\n",
    "orig_paper_params_direct_data = original_paper_param_data_that_changes[original_paper_param_data_that_changes['philosophy']=='direct']\n",
    "orig_paper_params_indirect_data = original_paper_param_data_that_changes[original_paper_param_data_that_changes['philosophy']=='indirect']"
   ]
  },
  {
   "cell_type": "code",
   "execution_count": null,
   "metadata": {},
   "outputs": [],
   "source": [
    "orig_paper_params_skeptical_data"
   ]
  },
  {
   "cell_type": "markdown",
   "metadata": {},
   "source": [
    "### Coorelation matricies on og data"
   ]
  },
  {
   "cell_type": "code",
   "execution_count": null,
   "metadata": {},
   "outputs": [],
   "source": [
    "orig_paper_params_skeptical_data.corr()"
   ]
  },
  {
   "cell_type": "code",
   "execution_count": null,
   "metadata": {},
   "outputs": [],
   "source": [
    "orig_paper_params_reid_data.corr()"
   ]
  },
  {
   "cell_type": "code",
   "execution_count": null,
   "metadata": {},
   "outputs": [],
   "source": [
    "orig_paper_params_direct_data.corr()"
   ]
  },
  {
   "cell_type": "code",
   "execution_count": null,
   "metadata": {},
   "outputs": [],
   "source": [
    "orig_paper_params_indirect_data.corr()"
   ]
  },
  {
   "cell_type": "markdown",
   "metadata": {},
   "source": [
    "### The direct has an unusual relationship between truth mean and truth total, false mean and truth total, and false total and truth total"
   ]
  },
  {
   "cell_type": "code",
   "execution_count": null,
   "metadata": {},
   "outputs": [],
   "source": [
    "full_data_df"
   ]
  },
  {
   "cell_type": "code",
   "execution_count": null,
   "metadata": {},
   "outputs": [],
   "source": [
    "full_data_df_that_changes = full_data_df[['num_individuals', 'num_facts', 'investigation_probability','philosophy','truth_mean', 'truth_total', 'false_mean', 'false_total']].copy()\n",
    "full_data_df_that_changes"
   ]
  },
  {
   "cell_type": "code",
   "execution_count": null,
   "metadata": {},
   "outputs": [],
   "source": [
    "full_data_df_that_changes_skeptical_data = full_data_df_that_changes[full_data_df_that_changes['philosophy']=='skeptical']\n",
    "full_data_df_that_changes_reid_data = full_data_df_that_changes[full_data_df_that_changes['philosophy']=='reid']\n",
    "full_data_df_that_changes_direct_data = full_data_df_that_changes[full_data_df_that_changes['philosophy']=='direct']\n",
    "full_data_df_that_changes_indirect_data = full_data_df_that_changes[full_data_df_that_changes['philosophy']=='indirect']"
   ]
  },
  {
   "cell_type": "code",
   "execution_count": null,
   "metadata": {},
   "outputs": [],
   "source": [
    "full_data_df_that_changes_skeptical_data"
   ]
  },
  {
   "cell_type": "markdown",
   "metadata": {},
   "source": [
    "### Coorelation matricies on full data"
   ]
  },
  {
   "cell_type": "code",
   "execution_count": null,
   "metadata": {},
   "outputs": [],
   "source": [
    "full_data_df_that_changes_skeptical_data.corr()"
   ]
  },
  {
   "cell_type": "code",
   "execution_count": null,
   "metadata": {},
   "outputs": [],
   "source": [
    "full_data_df_that_changes_reid_data.corr()"
   ]
  },
  {
   "cell_type": "code",
   "execution_count": null,
   "metadata": {},
   "outputs": [],
   "source": [
    "full_data_df_that_changes_direct_data.corr()"
   ]
  },
  {
   "cell_type": "code",
   "execution_count": null,
   "metadata": {},
   "outputs": [],
   "source": [
    "full_data_df_that_changes_indirect_data.corr()"
   ]
  },
  {
   "cell_type": "code",
   "execution_count": null,
   "metadata": {},
   "outputs": [],
   "source": [
    "corr = full_data_df_that_changes_indirect_data.corr()\n",
    "corr['false_total'] = corr.where(corr['false_total']>=.8, other=\"nope\")"
   ]
  },
  {
   "cell_type": "code",
   "execution_count": null,
   "metadata": {},
   "outputs": [],
   "source": []
  }
 ],
 "metadata": {
  "language_info": {
   "name": "python",
   "pygments_lexer": "ipython3"
  }
 },
 "nbformat": 4,
 "nbformat_minor": 5
}
