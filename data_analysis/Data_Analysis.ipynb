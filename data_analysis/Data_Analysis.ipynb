{
 "cells": [
  {
   "cell_type": "code",
   "execution_count": null,
   "metadata": {},
   "outputs": [],
   "source": [
    "import pandas as pd\n",
    "import numpy as np\n",
    "import matplotlib.pyplot as plt"
   ]
  },
  {
   "cell_type": "code",
   "execution_count": null,
   "metadata": {},
   "outputs": [],
   "source": [
    "path_to_data = \"../data/output.csv\"\n",
    "full_dataset = pd.read_csv(path_to_data)\n",
    "full_data_df = full_dataset.replace(to_replace=0.6000000000000001, value=.6)\n",
    "full_data_df"
   ]
  },
  {
   "cell_type": "markdown",
   "metadata": {},
   "source": [
    "## First lets take just the data the original paper did (with constraint that I only have 8 neighbors)"
   ]
  },
  {
   "cell_type": "code",
   "execution_count": null,
   "metadata": {},
   "outputs": [],
   "source": [
    "#dataset_100_individuals = full_data_df[full_data_df['num_individuals'] == 100]\n",
    "#dataset_100_individuals_1500_facts = dataset_100_individuals[dataset_100_individuals['num_facts'] == 1500]\n",
    "#dataset_100_individuals_1500_facts_6_invprob = dataset_100_individuals_1500_facts[dataset_100_individuals_1500_facts['investigation_probability']==.6]\n",
    "#original_paper_param_data = dataset_100_individuals_1500_facts_6_invprob\n",
    "path_to_og_data = \"../data/output_og.csv\"\n",
    "original_paper_param_data = pd.read_csv(path_to_og_data)\n",
    "original_paper_param_data"
   ]
  },
  {
   "cell_type": "code",
   "execution_count": null,
   "metadata": {},
   "outputs": [],
   "source": [
    "orig_paper_params_avgs = original_paper_param_data.groupby(['philosophy', 'num_neighbors']).mean()\n",
    "orig_paper_params_avgs"
   ]
  },
  {
   "cell_type": "code",
   "execution_count": null,
   "metadata": {},
   "outputs": [],
   "source": [
    "list(orig_paper_params_avgs.index.unique())"
   ]
  },
  {
   "cell_type": "code",
   "execution_count": null,
   "metadata": {},
   "outputs": [],
   "source": [
    "x = ['direct 2', 'direct 4', 'direct 6', 'direct 8', 'indirect 2', 'indirect 4', 'indirect 6', 'indirect 8', 'reid 2', 'reid 4', 'reid 6', 'reid 8', 'skeptical 2', 'skeptical 4', 'skeptical 6', 'skeptical 8']\n",
    "y_truth_mean = list(orig_paper_params_avgs['truth_mean'])\n",
    "y_truth_total = list(orig_paper_params_avgs['truth_total'])"
   ]
  },
  {
   "cell_type": "code",
   "execution_count": null,
   "metadata": {},
   "outputs": [],
   "source": [
    "# dumb reordering of bars to put num_neighbors together\n",
    "newx = []\n",
    "newy_truth_mean = []\n",
    "newy_truth_total = []\n",
    "index_order = [0, 4, 8, 12, 1, 5, 9, 13, 2, 6, 10, 14, 3, 7, 11, 15]\n",
    "for index in index_order:\n",
    "    newx.append(x[index])\n",
    "    newy_truth_mean.append(y_truth_mean[index])\n",
    "    newy_truth_total.append(y_truth_total[index])"
   ]
  },
  {
   "cell_type": "code",
   "execution_count": null,
   "metadata": {},
   "outputs": [],
   "source": [
    "fig = plt.figure(figsize = (20, 20))\n",
    "# creating the bar plot\n",
    "plt.bar(newx, newy_truth_mean)\n",
    "plt.xlabel(\"Philosophy\")\n",
    "plt.ylabel(\"Percent beliefts true\")\n",
    "plt.title(\"Truth Mean\")\n",
    "plt.show()"
   ]
  },
  {
   "cell_type": "code",
   "execution_count": null,
   "metadata": {},
   "outputs": [],
   "source": [
    "newy_truth_total_per_individual = []\n",
    "for truth_total in newy_truth_total:\n",
    "    newy_truth_total_per_individual.append(truth_total/100)\n",
    "fig = plt.figure(figsize = (20, 20))\n",
    "# creating the bar plot\n",
    "plt.bar(newx, newy_truth_total)\n",
    "plt.xlabel(\"Philosophy\")\n",
    "plt.ylabel(\"Percent beliefts true\")\n",
    "plt.title(\"Truth Total\")\n",
    "plt.show()"
   ]
  },
  {
   "cell_type": "code",
   "execution_count": null,
   "metadata": {},
   "outputs": [],
   "source": [
    "x = list(orig_paper_params_avgs.index.unique())\n",
    "y_truth_total = list(orig_paper_params_avgs['truth_total'])\n",
    "fig = plt.figure(figsize = (10, 5))\n",
    "# creating the bar plot\n",
    "plt.bar(x, y_truth_total)\n",
    "plt.xlabel(\"Philosophy\")\n",
    "plt.ylabel(\"Number beliefts true\")\n",
    "plt.title(\"Truth Total\")\n",
    "plt.show()"
   ]
  },
  {
   "cell_type": "code",
   "execution_count": null,
   "metadata": {},
   "outputs": [],
   "source": [
    "x = list(orig_paper_params_avgs.index.unique())\n",
    "y_false_mean = list(orig_paper_params_avgs['false_mean'])\n",
    "fig = plt.figure(figsize = (10, 5))\n",
    "# creating the bar plot\n",
    "plt.bar(x, y_false_mean)\n",
    "plt.xlabel(\"Philosophy\")\n",
    "plt.ylabel(\"Percent beliefts false\")\n",
    "plt.title(\"False Mean\")\n",
    "plt.show()"
   ]
  },
  {
   "cell_type": "code",
   "execution_count": null,
   "metadata": {},
   "outputs": [],
   "source": [
    "x = list(orig_paper_params_avgs.index.unique())\n",
    "y_false_total = list(orig_paper_params_avgs['false_total'])\n",
    "fig = plt.figure(figsize = (10, 5))\n",
    "# creating the bar plot\n",
    "plt.bar(x, y_false_total)\n",
    "plt.xlabel(\"Philosophy\")\n",
    "plt.ylabel(\"Number beliefts false\")\n",
    "plt.title(\"False Total\")\n",
    "plt.show()"
   ]
  },
  {
   "cell_type": "code",
   "execution_count": null,
   "metadata": {},
   "outputs": [],
   "source": [
    "original_paper_param_data"
   ]
  },
  {
   "cell_type": "code",
   "execution_count": null,
   "metadata": {},
   "outputs": [],
   "source": [
    "original_paper_param_data_that_changes = original_paper_param_data[['philosophy','truth_mean', 'truth_total', 'false_mean', 'false_total']].copy()"
   ]
  },
  {
   "cell_type": "code",
   "execution_count": null,
   "metadata": {},
   "outputs": [],
   "source": [
    "original_paper_param_data_that_changes"
   ]
  },
  {
   "cell_type": "code",
   "execution_count": null,
   "metadata": {},
   "outputs": [],
   "source": [
    "orig_paper_params_skeptical_data = original_paper_param_data_that_changes[original_paper_param_data_that_changes['philosophy']=='skeptical']\n",
    "orig_paper_params_reid_data = original_paper_param_data_that_changes[original_paper_param_data_that_changes['philosophy']=='reid']\n",
    "orig_paper_params_direct_data = original_paper_param_data_that_changes[original_paper_param_data_that_changes['philosophy']=='direct']\n",
    "orig_paper_params_indirect_data = original_paper_param_data_that_changes[original_paper_param_data_that_changes['philosophy']=='indirect']"
   ]
  },
  {
   "cell_type": "code",
   "execution_count": null,
   "metadata": {},
   "outputs": [],
   "source": [
    "orig_paper_params_skeptical_data"
   ]
  },
  {
   "cell_type": "markdown",
   "metadata": {},
   "source": [
    "### Coorelation matricies on og data"
   ]
  },
  {
   "cell_type": "code",
   "execution_count": null,
   "metadata": {},
   "outputs": [],
   "source": [
    "orig_paper_params_skeptical_data.corr()"
   ]
  },
  {
   "cell_type": "code",
   "execution_count": null,
   "metadata": {},
   "outputs": [],
   "source": [
    "orig_paper_params_reid_data.corr()"
   ]
  },
  {
   "cell_type": "code",
   "execution_count": null,
   "metadata": {},
   "outputs": [],
   "source": [
    "orig_paper_params_direct_data.corr()"
   ]
  },
  {
   "cell_type": "code",
   "execution_count": null,
   "metadata": {},
   "outputs": [],
   "source": [
    "orig_paper_params_indirect_data.corr()"
   ]
  },
  {
   "cell_type": "markdown",
   "metadata": {},
   "source": [
    "### The direct has an unusual relationship between truth mean and truth total, false mean and truth total, and false total and truth total"
   ]
  },
  {
   "cell_type": "code",
   "execution_count": null,
   "metadata": {},
   "outputs": [],
   "source": [
    "full_data_df"
   ]
  },
  {
   "cell_type": "code",
   "execution_count": null,
   "metadata": {},
   "outputs": [],
   "source": [
    "full_data_df_that_changes = full_data_df[['num_individuals', 'num_facts', 'investigation_probability','philosophy','truth_mean', 'truth_total', 'false_mean', 'false_total']].copy()\n",
    "full_data_df_that_changes"
   ]
  },
  {
   "cell_type": "markdown",
   "metadata": {},
   "source": [
    "Shorten Column Names"
   ]
  },
  {
   "cell_type": "code",
   "execution_count": null,
   "metadata": {},
   "outputs": [],
   "source": [
    "full_data_df_that_changes.rename(columns = {'num_individuals':'num_indvs', 'investigation_probability':'invest_prob'}, inplace=True)\n",
    "full_data_df_that_changes"
   ]
  },
  {
   "cell_type": "code",
   "execution_count": null,
   "metadata": {},
   "outputs": [],
   "source": [
    "full_data_df_that_changes_skeptical_data = full_data_df_that_changes[full_data_df_that_changes['philosophy']=='skeptical']\n",
    "full_data_df_that_changes_reid_data = full_data_df_that_changes[full_data_df_that_changes['philosophy']=='reid']\n",
    "full_data_df_that_changes_direct_data = full_data_df_that_changes[full_data_df_that_changes['philosophy']=='direct']\n",
    "full_data_df_that_changes_indirect_data = full_data_df_that_changes[full_data_df_that_changes['philosophy']=='indirect']"
   ]
  },
  {
   "cell_type": "code",
   "execution_count": null,
   "metadata": {},
   "outputs": [],
   "source": [
    "full_data_df_that_changes_skeptical_data"
   ]
  },
  {
   "cell_type": "markdown",
   "metadata": {},
   "source": [
    "### Coorelation matricies on full data"
   ]
  },
  {
   "cell_type": "code",
   "execution_count": null,
   "metadata": {},
   "outputs": [],
   "source": [
    "color = sn.diverging_palette(220, 20, as_cmap=True)"
   ]
  },
  {
   "cell_type": "code",
   "execution_count": null,
   "metadata": {},
   "outputs": [],
   "source": [
    "full_data_df_that_changes_skeptical_data.corr()"
   ]
  },
  {
   "cell_type": "code",
   "execution_count": null,
   "metadata": {},
   "outputs": [],
   "source": [
    "import seaborn as sn\n",
    "import matplotlib.pyplot as plt\n",
    "plt.rcParams[\"figure.figsize\"] = [10, 10]\n",
    "sn.heatmap(full_data_df_that_changes_skeptical_data.corr(), annot=True, cmap=color)\n",
    "plt.show()"
   ]
  },
  {
   "cell_type": "code",
   "execution_count": null,
   "metadata": {},
   "outputs": [],
   "source": [
    "full_data_df_that_changes_reid_data.corr()"
   ]
  },
  {
   "cell_type": "code",
   "execution_count": null,
   "metadata": {},
   "outputs": [],
   "source": [
    "import seaborn as sn\n",
    "import matplotlib.pyplot as plt\n",
    "sn.heatmap(full_data_df_that_changes_reid_data.corr(), annot=True, cmap=color)\n",
    "plt.show()"
   ]
  },
  {
   "cell_type": "code",
   "execution_count": null,
   "metadata": {},
   "outputs": [],
   "source": [
    "full_data_df_that_changes_direct_data.corr()"
   ]
  },
  {
   "cell_type": "code",
   "execution_count": null,
   "metadata": {},
   "outputs": [],
   "source": [
    "import seaborn as sn\n",
    "import matplotlib.pyplot as plt\n",
    "sn.heatmap(full_data_df_that_changes_direct_data.corr(), annot=True, cmap=color)\n",
    "plt.show()"
   ]
  },
  {
   "cell_type": "code",
   "execution_count": null,
   "metadata": {},
   "outputs": [],
   "source": [
    "full_data_df_that_changes_indirect_data.corr()"
   ]
  },
  {
   "cell_type": "code",
   "execution_count": null,
   "metadata": {},
   "outputs": [],
   "source": [
    "import seaborn as sn\n",
    "import matplotlib.pyplot as plt\n",
    "sn.heatmap(full_data_df_that_changes_indirect_data.corr(), annot=True, cmap=color)\n",
    "plt.show()"
   ]
  },
  {
   "cell_type": "markdown",
   "metadata": {},
   "source": [
    "# Lets just compare the correlation matricies"
   ]
  },
  {
   "cell_type": "code",
   "execution_count": null,
   "metadata": {},
   "outputs": [],
   "source": [
    "color = sn.diverging_palette(220, 20, as_cmap=True)"
   ]
  },
  {
   "cell_type": "code",
   "execution_count": null,
   "metadata": {},
   "outputs": [],
   "source": [
    "import seaborn as sn\n",
    "import matplotlib.pyplot as plt\n",
    "sn.heatmap(full_data_df_that_changes_skeptical_data.corr() * 100, annot=True, cmap=color)\n",
    "plt.show()"
   ]
  },
  {
   "cell_type": "code",
   "execution_count": null,
   "metadata": {},
   "outputs": [],
   "source": [
    "import seaborn as sn\n",
    "import matplotlib.pyplot as plt\n",
    "sn.heatmap((full_data_df_that_changes_reid_data.corr() * 100), annot=True, cmap=color)\n",
    "plt.show()"
   ]
  },
  {
   "cell_type": "code",
   "execution_count": null,
   "metadata": {},
   "outputs": [],
   "source": [
    "import seaborn as sn\n",
    "import matplotlib.pyplot as plt\n",
    "sn.heatmap(full_data_df_that_changes_direct_data.corr() * 100, annot=True, cmap=color)\n",
    "plt.show()"
   ]
  },
  {
   "cell_type": "code",
   "execution_count": null,
   "metadata": {},
   "outputs": [],
   "source": [
    "import seaborn as sn\n",
    "import matplotlib.pyplot as plt\n",
    "sn.heatmap(full_data_df_that_changes_indirect_data.corr() * 100, annot=True, cmap=color)\n",
    "plt.show()"
   ]
  },
  {
   "cell_type": "markdown",
   "metadata": {},
   "source": [
    "-------"
   ]
  },
  {
   "cell_type": "code",
   "execution_count": null,
   "metadata": {},
   "outputs": [],
   "source": [
    "import seaborn as sn\n",
    "import matplotlib.pyplot as plt\n",
    "#plt.rcParams[\"figure.autolayout\"] = True\n",
    "plt.rcParams[\"figure.figsize\"] = [30, 30]\n",
    "fig, axs = plt.subplots(ncols=2, nrows=2)\n",
    "\n",
    "skeptical = sn.heatmap(full_data_df_that_changes_skeptical_data.corr(), annot=True, annot_kws={\"fontsize\":20}, cmap=color, ax=axs[0,0], cbar=False)\n",
    "reid = sn.heatmap((full_data_df_that_changes_reid_data.corr()), annot=True, annot_kws={\"fontsize\":20}, cmap=color, ax=axs[0,1], cbar=False)\n",
    "direct = sn.heatmap(full_data_df_that_changes_direct_data.corr(), annot=True, annot_kws={\"fontsize\":20}, cmap=color, ax=axs[1,0], cbar=False)\n",
    "indirect = sn.heatmap(full_data_df_that_changes_indirect_data.corr(), annot=True, annot_kws={\"fontsize\":20}, cmap=color, ax=axs[1,1], cbar=False)\n",
    "name_index = 0\n",
    "name_array = ['Skeptical', 'Reid', 'Direct', 'Indirect']\n",
    "for heatmap in [skeptical, reid, direct, indirect]:\n",
    "    heatmap.set_xticklabels(heatmap.get_xmajorticklabels(), fontsize = 18)\n",
    "    heatmap.set_yticklabels(heatmap.get_ymajorticklabels(), fontsize = 18)\n",
    "    heatmap.set_title(f\"{name_array[name_index]} Coorelation Coefficients\", fontsize = 30)\n",
    "    name_index = name_index + 1\n",
    "plt.subplots_adjust(wspace=.1, hspace=.2)\n",
    "plt.show()"
   ]
  },
  {
   "cell_type": "markdown",
   "metadata": {},
   "source": [
    "# Scatter plots of interesting differences"
   ]
  },
  {
   "cell_type": "markdown",
   "metadata": {},
   "source": [
    "## Direct num individuals and false mean"
   ]
  },
  {
   "cell_type": "code",
   "execution_count": null,
   "metadata": {},
   "outputs": [],
   "source": [
    "skeptical_num_ind_f_mean = full_data_df_that_changes_skeptical_data[['num_indvs', 'false_mean']]\n",
    "reid__num_ind_f_mean = full_data_df_that_changes_reid_data[['num_indvs', 'false_mean']]\n",
    "direct_num_ind_f_mean = full_data_df_that_changes_direct_data[['num_indvs', 'false_mean']]\n",
    "indirect_num_ind_f_mean = full_data_df_that_changes_indirect_data[['num_indvs', 'false_mean']]"
   ]
  },
  {
   "cell_type": "code",
   "execution_count": null,
   "metadata": {},
   "outputs": [],
   "source": [
    "plt.rcParams[\"figure.figsize\"] = [30, 30]\n",
    "fig, axs = plt.subplots(ncols=2, nrows=2)\n",
    "\n",
    "\n",
    "axs[0,0].scatter(skeptical_num_ind_f_mean['num_indvs'], skeptical_num_ind_f_mean['false_mean'], s=1)\n",
    "axs[1,0].scatter(reid__num_ind_f_mean['num_indvs'], reid__num_ind_f_mean['false_mean'], s=1)\n",
    "axs[0,1].scatter(direct_num_ind_f_mean['num_indvs'], direct_num_ind_f_mean['false_mean'], s=1)\n",
    "axs[1,1].scatter(indirect_num_ind_f_mean['num_indvs'], indirect_num_ind_f_mean['false_mean'], s = 1)\n",
    "\n",
    "\n",
    "name_array = ['Skeptical', 'Reid', 'Direct', 'Indirect']\n",
    "name_index = 0\n",
    "for axis in [(0,0), (1,0), (0,1), (1,1)]:\n",
    "    axs[axis].set_xlabel(\"num_individuals\", fontsize = 18)\n",
    "    axs[axis].set_ylabel(\"false_mean\", fontsize = 18)\n",
    "    axs[axis].set_title(f\"{name_array[name_index]} Coorelation Coefficients\", fontsize = 30)\n",
    "    name_index = name_index + 1\n",
    "plt.show\n"
   ]
  },
  {
   "cell_type": "markdown",
   "metadata": {},
   "source": [
    "## Direct num individuals and false total"
   ]
  },
  {
   "cell_type": "code",
   "execution_count": null,
   "metadata": {},
   "outputs": [],
   "source": [
    "skeptical_num_ind_f_total = full_data_df_that_changes_skeptical_data[['num_indvs', 'false_']]\n",
    "reid__num_ind_f_total = full_data_df_that_changes_reid_data[['num_indvs', 'false_mean']]\n",
    "direct_num_ind_f_total = full_data_df_that_changes_direct_data[['num_indvs', 'false_mean']]\n",
    "indirect_num_ind_f_total = full_data_df_that_changes_indirect_data[['num_indvs', 'false_mean']]"
   ]
  },
  {
   "cell_type": "markdown",
   "metadata": {},
   "source": [
    "# Number of True Beliefs Comparisons"
   ]
  },
  {
   "cell_type": "code",
   "execution_count": null,
   "metadata": {},
   "outputs": [],
   "source": []
  },
  {
   "cell_type": "markdown",
   "metadata": {},
   "source": [
    "# Proportion of True Beliefs Comparisons"
   ]
  },
  {
   "cell_type": "code",
   "execution_count": null,
   "metadata": {},
   "outputs": [],
   "source": []
  }
 ],
 "metadata": {
  "language_info": {
   "name": "python",
   "pygments_lexer": "ipython3"
  }
 },
 "nbformat": 4,
 "nbformat_minor": 5
}
